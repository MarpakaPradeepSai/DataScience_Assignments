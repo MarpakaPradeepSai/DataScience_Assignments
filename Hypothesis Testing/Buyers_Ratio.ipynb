{
 "cells": [
  {
   "cell_type": "markdown",
   "id": "189dcf83",
   "metadata": {},
   "source": [
    "Null Hypothesis (H₀): The male-female buyer ratios are not similar across all regions (Independent).\n",
    "\n",
    "Alternative Hypothesis (H₁): The male-female buyer ratios are similar across all regions (dependent).\n",
    "\n",
    "We are going to conduct a Chi-Square test of Independence with Contingency table"
   ]
  },
  {
   "cell_type": "code",
   "execution_count": 14,
   "id": "8963d2d9",
   "metadata": {},
   "outputs": [
    {
     "data": {
      "text/html": [
       "<div>\n",
       "<style scoped>\n",
       "    .dataframe tbody tr th:only-of-type {\n",
       "        vertical-align: middle;\n",
       "    }\n",
       "\n",
       "    .dataframe tbody tr th {\n",
       "        vertical-align: top;\n",
       "    }\n",
       "\n",
       "    .dataframe thead th {\n",
       "        text-align: right;\n",
       "    }\n",
       "</style>\n",
       "<table border=\"1\" class=\"dataframe\">\n",
       "  <thead>\n",
       "    <tr style=\"text-align: right;\">\n",
       "      <th></th>\n",
       "      <th>Observed Values</th>\n",
       "      <th>East</th>\n",
       "      <th>West</th>\n",
       "      <th>North</th>\n",
       "      <th>South</th>\n",
       "    </tr>\n",
       "  </thead>\n",
       "  <tbody>\n",
       "    <tr>\n",
       "      <th>0</th>\n",
       "      <td>Males</td>\n",
       "      <td>50</td>\n",
       "      <td>142</td>\n",
       "      <td>131</td>\n",
       "      <td>70</td>\n",
       "    </tr>\n",
       "    <tr>\n",
       "      <th>1</th>\n",
       "      <td>Females</td>\n",
       "      <td>435</td>\n",
       "      <td>1523</td>\n",
       "      <td>1356</td>\n",
       "      <td>750</td>\n",
       "    </tr>\n",
       "  </tbody>\n",
       "</table>\n",
       "</div>"
      ],
      "text/plain": [
       "  Observed Values  East  West  North  South\n",
       "0           Males    50   142    131     70\n",
       "1         Females   435  1523   1356    750"
      ]
     },
     "execution_count": 14,
     "metadata": {},
     "output_type": "execute_result"
    }
   ],
   "source": [
    "import pandas as pd\n",
    "df = pd.read_csv(\"C:\\\\Users\\\\marpaka pradeep sai\\\\Downloads\\\\BuyerRatio.csv\")\n",
    "df"
   ]
  },
  {
   "cell_type": "code",
   "execution_count": 15,
   "id": "3ce86bf9",
   "metadata": {},
   "outputs": [],
   "source": [
    "import numpy as np\n",
    "from scipy.stats import chi2_contingency"
   ]
  },
  {
   "cell_type": "code",
   "execution_count": 16,
   "id": "51c9198d",
   "metadata": {},
   "outputs": [
    {
     "name": "stdout",
     "output_type": "stream",
     "text": [
      "[[  50  142  131   70]\n",
      " [ 435 1523 1356  750]]\n"
     ]
    }
   ],
   "source": [
    "# Given data\n",
    "observed_values = np.array([[50, 142, 131, 70], [435, 1523, 1356, 750]])\n",
    "print(observed_values)"
   ]
  },
  {
   "cell_type": "code",
   "execution_count": 17,
   "id": "b50dcbcd",
   "metadata": {},
   "outputs": [],
   "source": [
    "# Perform chi-square test\n",
    "chi2, p, dof, expected = chi2_contingency(observed_values)"
   ]
  },
  {
   "cell_type": "code",
   "execution_count": 18,
   "id": "2d4a504b",
   "metadata": {},
   "outputs": [
    {
     "name": "stdout",
     "output_type": "stream",
     "text": [
      "Chi-square value : 1.595945538661058\n"
     ]
    }
   ],
   "source": [
    "print(\"Chi-square value :\", chi2)"
   ]
  },
  {
   "cell_type": "code",
   "execution_count": 19,
   "id": "8fcb1036",
   "metadata": {},
   "outputs": [
    {
     "name": "stdout",
     "output_type": "stream",
     "text": [
      "P value : 0.6603094907091882\n"
     ]
    }
   ],
   "source": [
    "print(\"P value :\", p)"
   ]
  },
  {
   "cell_type": "code",
   "execution_count": 20,
   "id": "e30afd24",
   "metadata": {},
   "outputs": [],
   "source": [
    "P_value = p"
   ]
  },
  {
   "cell_type": "code",
   "execution_count": 21,
   "id": "1cd2b4bb",
   "metadata": {},
   "outputs": [
    {
     "name": "stdout",
     "output_type": "stream",
     "text": [
      "Degrees of Freedom : 3\n"
     ]
    }
   ],
   "source": [
    "print(\"Degrees of Freedom :\", dof)"
   ]
  },
  {
   "cell_type": "code",
   "execution_count": 22,
   "id": "464ccce6",
   "metadata": {},
   "outputs": [
    {
     "name": "stdout",
     "output_type": "stream",
     "text": [
      "Expected values : [[  42.76531299  146.81287862  131.11756787   72.30424052]\n",
      " [ 442.23468701 1518.18712138 1355.88243213  747.69575948]]\n"
     ]
    }
   ],
   "source": [
    "print(\"Expected values :\",expected)"
   ]
  },
  {
   "cell_type": "code",
   "execution_count": 23,
   "id": "a9fc1d61",
   "metadata": {},
   "outputs": [],
   "source": [
    "# 5% level of significance\n",
    "alpha = 0.05"
   ]
  },
  {
   "cell_type": "code",
   "execution_count": 24,
   "id": "f41adaf8",
   "metadata": {},
   "outputs": [
    {
     "name": "stdout",
     "output_type": "stream",
     "text": [
      "H1 is rejected and H0 is accepted\n",
      "Therefore, there is a significance evidence to conclude that the male-female buyer ratios are not similar across all regions.\n"
     ]
    }
   ],
   "source": [
    "if P_value < alpha:\n",
    "    print(\"H0 is rejected and H1 is accepted\")\n",
    "    print(\"Therefore, there is a significance evidence to conclude that the male-female buyer ratios are similar across all regions.\")\n",
    "else :\n",
    "    print(\"H1 is rejected and H0 is accepted\")\n",
    "    print(\"Therefore, there is a significance evidence to conclude that the male-female buyer ratios are not similar across all regions.\")\n",
    "    "
   ]
  },
  {
   "cell_type": "markdown",
   "id": "177661ef",
   "metadata": {},
   "source": [
    "# Therefore, there is a significance evidence to conclude that the male-female buyer ratios are not similar across all regions.Hence, the male-female buyer ratio is independent across different regions."
   ]
  },
  {
   "cell_type": "code",
   "execution_count": null,
   "id": "0b9b1bc1",
   "metadata": {},
   "outputs": [],
   "source": []
  },
  {
   "cell_type": "code",
   "execution_count": null,
   "id": "b65beb83",
   "metadata": {},
   "outputs": [],
   "source": []
  },
  {
   "cell_type": "code",
   "execution_count": null,
   "id": "dbed3247",
   "metadata": {},
   "outputs": [],
   "source": []
  },
  {
   "cell_type": "code",
   "execution_count": null,
   "id": "7d8b489e",
   "metadata": {},
   "outputs": [],
   "source": []
  },
  {
   "cell_type": "code",
   "execution_count": null,
   "id": "b87d754b",
   "metadata": {},
   "outputs": [],
   "source": []
  },
  {
   "cell_type": "code",
   "execution_count": null,
   "id": "99efaee4",
   "metadata": {},
   "outputs": [],
   "source": []
  },
  {
   "cell_type": "code",
   "execution_count": null,
   "id": "af96a9f7",
   "metadata": {},
   "outputs": [],
   "source": []
  },
  {
   "cell_type": "code",
   "execution_count": null,
   "id": "7847b617",
   "metadata": {},
   "outputs": [],
   "source": []
  }
 ],
 "metadata": {
  "kernelspec": {
   "display_name": "Python 3 (ipykernel)",
   "language": "python",
   "name": "python3"
  },
  "language_info": {
   "codemirror_mode": {
    "name": "ipython",
    "version": 3
   },
   "file_extension": ".py",
   "mimetype": "text/x-python",
   "name": "python",
   "nbconvert_exporter": "python",
   "pygments_lexer": "ipython3",
   "version": "3.11.4"
  }
 },
 "nbformat": 4,
 "nbformat_minor": 5
}
